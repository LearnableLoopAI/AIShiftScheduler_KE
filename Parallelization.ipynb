{
  "cells": [
    {
      "attachments": {},
      "cell_type": "markdown",
      "metadata": {},
      "source": [
        "# Parallelization"
      ]
    },
    {
      "cell_type": "code",
      "execution_count": 9,
      "metadata": {},
      "outputs": [
        {
          "name": "stdout",
          "output_type": "stream",
          "text": [
            "Collecting timebudget\n",
            "  Downloading timebudget-0.7.1-py3-none-any.whl (9.5 kB)\n",
            "Installing collected packages: timebudget\n",
            "Successfully installed timebudget-0.7.1\n",
            "\u001b[33mWARNING: Running pip as the 'root' user can result in broken permissions and conflicting behaviour with the system package manager. It is recommended to use a virtual environment instead: https://pip.pypa.io/warnings/venv\u001b[0m\u001b[33m\n",
            "\u001b[0m"
          ]
        }
      ],
      "source": [
        "!pip install timebudget"
      ]
    },
    {
      "cell_type": "code",
      "execution_count": 27,
      "metadata": {},
      "outputs": [
        {
          "name": "stdout",
          "output_type": "stream",
          "text": [
            "Number of CPUs in the system: 12\n"
          ]
        }
      ],
      "source": [
        "import os\n",
        "print('Number of CPUs in the system: {}'.format(os.cpu_count()))"
      ]
    },
    {
      "cell_type": "code",
      "execution_count": 28,
      "metadata": {},
      "outputs": [
        {
          "name": "stdout",
          "output_type": "stream",
          "text": [
            "Complex operation. Input index:  0\n",
            "Complex operation. Input index:  1\n",
            "Complex operation. Input index:  2\n",
            "Complex operation. Input index:  3\n",
            "Complex operation. Input index:  4\n",
            "Complex operation. Input index:  5\n",
            "Complex operation. Input index:  6\n",
            "Complex operation. Input index:  7\n",
            "Complex operation. Input index:  8\n",
            "Complex operation. Input index:  9\n",
            "run_complex_operations took 25.370sec\n"
          ]
        }
      ],
      "source": [
        "import math\n",
        "import numpy as np\n",
        "from timebudget import timebudget\n",
        "\n",
        "iterations_count = round(1e7)\n",
        "\n",
        "def complex_operation(input_index):\n",
        "    print(\"Complex operation. Input index: {:2d}\".format(input_index))\n",
        "\n",
        "    [math.exp(i) * math.sinh(i) for i in [1] * iterations_count]\n",
        "\n",
        "@timebudget\n",
        "def run_complex_operations(operation, input):\n",
        "    for i in input:\n",
        "        operation(i)\n",
        "\n",
        "input = range(10)\n",
        "run_complex_operations(complex_operation, input)"
      ]
    },
    {
      "cell_type": "markdown",
      "metadata": {},
      "source": [
        "# Process-Based Parallelism"
      ]
    },
    {
      "cell_type": "code",
      "execution_count": 33,
      "metadata": {},
      "outputs": [
        {
          "name": "stdout",
          "output_type": "stream",
          "text": [
            "Complex operation. Input index:  8\n",
            "Complex operation. Input index:  1\n",
            "Complex operation. Input index:  2\n",
            "Complex operation. Input index:  5\n",
            "Complex operation. Input index:  0\n",
            "Complex operation. Input index:  3\n",
            "Complex operation. Input index:  6\n",
            "Complex operation. Input index:  7\n",
            "Complex operation. Input index:  4\n",
            "Complex operation. Input index:  9\n",
            "\n",
            "\n",
            "\n",
            "\n",
            "\n",
            "\n",
            "\n",
            "\n",
            "\n",
            "\n",
            "run_complex_operations took 6.914sec\n"
          ]
        },
        {
          "name": "stderr",
          "output_type": "stream",
          "text": [
            "\u001b[33m(raylet)\u001b[0m [2023-11-25 17:37:25,498 E 42339 42339] (raylet) node_manager.cc:3035: 2 Workers (tasks / actors) killed due to memory pressure (OOM), 0 Workers crashed due to other reasons at node (ID: 57246ea15ef728432a5cbf325a103fd18faee4bee80faa10eadb7272, IP: 172.17.0.2) over the last time period. To see more information about the Workers killed on this node, use `ray logs raylet.out -ip 172.17.0.2`\n",
            "\u001b[33m(raylet)\u001b[0m \n",
            "\u001b[33m(raylet)\u001b[0m Refer to the documentation on how to address the out of memory issue: https://docs.ray.io/en/latest/ray-core/scheduling/ray-oom-prevention.html. Consider provisioning more memory on this node or reducing task parallelism by requesting more CPUs per task. To adjust the kill threshold, set the environment variable `RAY_memory_usage_threshold` when starting Ray. To disable worker killing, set the environment variable `RAY_memory_monitor_refresh_ms` to zero.\n"
          ]
        }
      ],
      "source": [
        "import math\n",
        "import numpy as np\n",
        "from timebudget import timebudget\n",
        "from multiprocessing import Pool\n",
        "\n",
        "iterations_count = round(1e7)\n",
        "\n",
        "def complex_operation(input_index):\n",
        "    print(\"Complex operation. Input index: {:2d}\\n\".format(input_index))\n",
        "    [math.exp(i) * math.sinh(i) for i in [1] * iterations_count]\n",
        "\n",
        "@timebudget\n",
        "def run_complex_operations(operation, input, pool):\n",
        "    pool.map(operation, input)\n",
        "\n",
        "processes_count = 10\n",
        "\n",
        "# if __name__ == '__main__':\n",
        "processes_pool = Pool(processes_count)\n",
        "run_complex_operations(complex_operation, range(10), processes_pool)"
      ]
    },
    {
      "cell_type": "markdown",
      "metadata": {},
      "source": [
        "# Specialized Libraries"
      ]
    },
    {
      "cell_type": "code",
      "execution_count": 34,
      "metadata": {},
      "outputs": [
        {
          "name": "stdout",
          "output_type": "stream",
          "text": [
            "Complex operation. Input index:  6Complex operation. Input index:  9Complex operation. Input index:  0Complex operation. Input index:  5Complex operation. Input index:  2Complex operation. Input index:  8Complex operation. Input index:  1Complex operation. Input index:  3Complex operation. Input index:  7Complex operation. Input index:  4\n",
            "\n",
            "\n",
            "\n",
            "\n",
            "\n",
            "\n",
            "\n",
            "\n",
            "\n"
          ]
        },
        {
          "name": "stderr",
          "output_type": "stream",
          "text": [
            "*** SIGTERM received at time=1700933850 on cpu 4 ***\n",
            "*** SIGTERM received at time=1700933850 on cpu 9 ***\n",
            "*** SIGTERM received at time=1700933850 on cpu 2 ***\n",
            "*** SIGTERM received at time=1700933850 on cpu 8 ***\n",
            "*** SIGTERM received at time=1700933850 on cpu 11 ***\n",
            "*** SIGTERM received at time=1700933850 on cpu 1 ***\n",
            "*** SIGTERM received at time=1700933850 on cpu 7 ***\n",
            "*** SIGTERM received at time=1700933850 on cpu 0 ***\n",
            "*** SIGTERM received at time=1700933850 on cpu 6 ***\n",
            "*** SIGTERM received at time=1700933850 on cpu 5 ***\n",
            "PC: @           0x4d8220  (unknown)  _PyEval_EvalFrameDefault\n",
            "PC: @           0x4d8220  (unknown)  _PyEval_EvalFrameDefault\n",
            "PC: @           0x4d8220  (unknown)  _PyEval_EvalFrameDefault\n",
            "PC: @           0x4d8220  (unknown)  _PyEval_EvalFrameDefault\n",
            "PC: @           0x4d8220  (unknown)  _PyEval_EvalFrameDefault\n",
            "    @     0x7f5a640a5420  (unknown)  (unknown)\n",
            "    @     0x7f5a640a5420  (unknown)  (unknown)\n",
            "    @     0x7f5a640a5420  (unknown)  (unknown)\n",
            "    @     0x7f5a640a5420  (unknown)  (unknown)\n",
            "    @     0x7f5a640a5420  (unknown)  (unknown)\n",
            "PC: @           0x4d8220  (unknown)  _PyEval_EvalFrameDefault\n",
            "    @     0x7f5a640a5420  (unknown)  (unknown)\n",
            "PC: @           0x4d8220  (unknown)  _PyEval_EvalFrameDefault\n",
            "PC: @           0x4d7d5e  (unknown)  _PyFrame_New_NoTrack\n",
            "PC: @           0x4d8220  (unknown)  _PyEval_EvalFrameDefault\n",
            "    @     0x7f5a640a5420  (unknown)  (unknown)\n",
            "    @     0x7f5a640a5420  (unknown)  (unknown)\n",
            "    @     0x7f5a640a5420  (unknown)  (unknown)\n",
            "PC: @           0x4d8220  (unknown)  _PyEval_EvalFrameDefault\n",
            "    @     0x7f5a640a5420  (unknown)  (unknown)\n",
            "    @           0x7158e0  (unknown)  (unknown)\n",
            "[2023-11-25 17:37:30,289 E 43319 32881] logging.cc:361: *** SIGTERM received at time=1700933850 on cpu 4 ***\n",
            "[2023-11-25 17:37:30,288 E 43314 32881] logging.cc:361: *** SIGTERM received at time=1700933850 on cpu 6 ***\n",
            "[2023-11-25 17:37:30,289 E 43322 32881] logging.cc:361: *** SIGTERM received at time=1700933850 on cpu 2 ***\n",
            "[2023-11-25 17:37:30,288 E 43320 32881] logging.cc:361: *** SIGTERM received at time=1700933850 on cpu 9 ***\n",
            "[2023-11-25 17:37:30,288 E 43317 32881] logging.cc:361: *** SIGTERM received at time=1700933850 on cpu 5 ***\n",
            "[2023-11-25 17:37:30,290 E 43316 32881] logging.cc:361: *** SIGTERM received at time=1700933850 on cpu 11 ***\n",
            "[2023-11-25 17:37:30,289 E 43318 32881] logging.cc:361: *** SIGTERM received at time=1700933850 on cpu 7 ***\n",
            "[2023-11-25 17:37:30,289 E 43321 32881] logging.cc:361: *** SIGTERM received at time=1700933850 on cpu 8 ***\n",
            "[2023-11-25 17:37:30,292 E 43320 32881] logging.cc:361: PC: @           0x4d8220  (unknown)  _PyEval_EvalFrameDefault\n",
            "[2023-11-25 17:37:30,292 E 43322 32881] logging.cc:361: PC: @           0x4d8220  (unknown)  _PyEval_EvalFrameDefault\n",
            "[2023-11-25 17:37:30,292 E 43314 32881] logging.cc:361: PC: @           0x4d7d5e  (unknown)  _PyFrame_New_NoTrack\n",
            "[2023-11-25 17:37:30,292 E 43317 32881] logging.cc:361: PC: @           0x4d8220  (unknown)  _PyEval_EvalFrameDefault\n",
            "[2023-11-25 17:37:30,292 E 43318 32881] logging.cc:361: PC: @           0x4d8220  (unknown)  _PyEval_EvalFrameDefault\n",
            "[2023-11-25 17:37:30,292 E 43316 32881] logging.cc:361: PC: @           0x4d8220  (unknown)  _PyEval_EvalFrameDefault\n",
            "[2023-11-25 17:37:30,292 E 43321 32881] logging.cc:361: PC: @           0x4d8220  (unknown)  _PyEval_EvalFrameDefault\n",
            "[2023-11-25 17:37:30,292 E 43319 32881] logging.cc:361: PC: @           0x4d8220  (unknown)  _PyEval_EvalFrameDefault\n",
            "[2023-11-25 17:37:30,292 E 43322 32881] logging.cc:361:     @     0x7f5a640a5420  (unknown)  (unknown)\n",
            "[2023-11-25 17:37:30,292 E 43320 32881] logging.cc:361:     @     0x7f5a640a5420  (unknown)  (unknown)\n",
            "[2023-11-25 17:37:30,292 E 43316 32881] logging.cc:361:     @     0x7f5a640a5420  (unknown)  (unknown)\n",
            "[2023-11-25 17:37:30,292 E 43318 32881] logging.cc:361:     @     0x7f5a640a5420  (unknown)  (unknown)\n",
            "[2023-11-25 17:37:30,292 E 43317 32881] logging.cc:361:     @     0x7f5a640a5420  (unknown)  (unknown)\n",
            "[2023-11-25 17:37:30,292 E 43321 32881] logging.cc:361:     @     0x7f5a640a5420  (unknown)  (unknown)\n",
            "[2023-11-25 17:37:30,292 E 43319 32881] logging.cc:361:     @     0x7f5a640a5420  (unknown)  (unknown)\n",
            "[2023-11-25 17:37:30,288 E 43323 32881] logging.cc:361: *** SIGTERM received at time=1700933850 on cpu 0 ***\n",
            "[2023-11-25 17:37:30,288 E 43315 32881] logging.cc:361: *** SIGTERM received at time=1700933850 on cpu 1 ***\n",
            "[2023-11-25 17:37:30,293 E 43315 32881] logging.cc:361: PC: @           0x4d8220  (unknown)  _PyEval_EvalFrameDefault\n",
            "[2023-11-25 17:37:30,293 E 43323 32881] logging.cc:361: PC: @           0x4d8220  (unknown)  _PyEval_EvalFrameDefault\n",
            "[2023-11-25 17:37:30,293 E 43323 32881] logging.cc:361:     @     0x7f5a640a5420  (unknown)  (unknown)\n",
            "[2023-11-25 17:37:30,293 E 43315 32881] logging.cc:361:     @     0x7f5a640a5420  (unknown)  (unknown)\n",
            "[2023-11-25 17:37:30,293 E 43314 32881] logging.cc:361:     @     0x7f5a640a5420  (unknown)  (unknown)\n",
            "[2023-11-25 17:37:30,294 E 43314 32881] logging.cc:361:     @           0x7158e0  (unknown)  (unknown)\n"
          ]
        },
        {
          "name": "stdout",
          "output_type": "stream",
          "text": [
            "Without NumPy\n",
            "run_complex_operations took 6.135sec\n",
            "Complex operation (numpy). Input index:  0Complex operation (numpy). Input index:  1Complex operation (numpy). Input index:  2Complex operation (numpy). Input index:  6Complex operation (numpy). Input index:  5Complex operation (numpy). Input index:  7Complex operation (numpy). Input index:  3Complex operation (numpy). Input index:  4Complex operation (numpy). Input index:  9Complex operation (numpy). Input index:  8\n",
            "\n",
            "\n",
            "\n",
            "\n",
            "\n",
            "\n",
            "\n",
            "\n",
            "\n",
            "\n",
            "NumPy\n",
            "run_complex_operations took 791.87ms\n"
          ]
        }
      ],
      "source": [
        "import math\n",
        "import numpy as np\n",
        "from timebudget import timebudget\n",
        "from multiprocessing import Pool\n",
        "\n",
        "iterations_count = round(1e7)\n",
        "\n",
        "def complex_operation(input_index):\n",
        "    print(\"Complex operation. Input index: {:2d}\".format(input_index))\n",
        "\n",
        "    [math.exp(i) * math.sinh(i) for i in [1] * iterations_count]\n",
        "\n",
        "def complex_operation_numpy(input_index):\n",
        "    print(\"Complex operation (numpy). Input index: {:2d}\".format(input_index))\n",
        "\n",
        "    data = np.ones(iterations_count)\n",
        "    np.exp(data) * np.sinh(data)\n",
        "\n",
        "@timebudget\n",
        "def run_complex_operations(operation, input, pool):\n",
        "    pool.map(operation, input)\n",
        "\n",
        "processes_count = 10\n",
        "\n",
        "# if __name__ == '__main__':\n",
        "processes_pool = Pool(processes_count)\n",
        "print('Without NumPy')\n",
        "run_complex_operations(complex_operation, range(10), processes_pool)\n",
        "print('\\nNumPy')\n",
        "run_complex_operations(complex_operation_numpy, range(10), processes_pool) "
      ]
    },
    {
      "cell_type": "markdown",
      "metadata": {},
      "source": [
        "# Ray"
      ]
    },
    {
      "cell_type": "code",
      "execution_count": 24,
      "metadata": {},
      "outputs": [
        {
          "name": "stdout",
          "output_type": "stream",
          "text": [
            "Collecting ray\n",
            "  Downloading ray-2.8.0-cp38-cp38-manylinux2014_x86_64.whl.metadata (13 kB)\n",
            "Collecting click>=7.0 (from ray)\n",
            "  Downloading click-8.1.7-py3-none-any.whl.metadata (3.0 kB)\n",
            "Collecting filelock (from ray)\n",
            "  Downloading filelock-3.13.1-py3-none-any.whl.metadata (2.8 kB)\n",
            "Requirement already satisfied: jsonschema in /opt/conda/lib/python3.8/site-packages (from ray) (4.20.0)\n",
            "Collecting msgpack<2.0.0,>=1.0.0 (from ray)\n",
            "  Downloading msgpack-1.0.7-cp38-cp38-manylinux_2_17_x86_64.manylinux2014_x86_64.whl.metadata (9.1 kB)\n",
            "Requirement already satisfied: packaging in /opt/conda/lib/python3.8/site-packages (from ray) (23.1)\n",
            "Collecting protobuf!=3.19.5,>=3.15.3 (from ray)\n",
            "  Downloading protobuf-4.25.1-cp37-abi3-manylinux2014_x86_64.whl.metadata (541 bytes)\n",
            "Requirement already satisfied: pyyaml in /opt/conda/lib/python3.8/site-packages (from ray) (6.0.1)\n",
            "Collecting aiosignal (from ray)\n",
            "  Downloading aiosignal-1.3.1-py3-none-any.whl (7.6 kB)\n",
            "Collecting frozenlist (from ray)\n",
            "  Downloading frozenlist-1.4.0-cp38-cp38-manylinux_2_5_x86_64.manylinux1_x86_64.manylinux_2_17_x86_64.manylinux2014_x86_64.whl.metadata (5.2 kB)\n",
            "Requirement already satisfied: requests in /opt/conda/lib/python3.8/site-packages (from ray) (2.31.0)\n",
            "Requirement already satisfied: numpy>=1.16 in /opt/conda/lib/python3.8/site-packages (from ray) (1.24.4)\n",
            "Requirement already satisfied: attrs>=22.2.0 in /opt/conda/lib/python3.8/site-packages (from jsonschema->ray) (23.1.0)\n",
            "Requirement already satisfied: importlib-resources>=1.4.0 in /opt/conda/lib/python3.8/site-packages (from jsonschema->ray) (6.1.1)\n",
            "Requirement already satisfied: jsonschema-specifications>=2023.03.6 in /opt/conda/lib/python3.8/site-packages (from jsonschema->ray) (2023.11.1)\n",
            "Requirement already satisfied: pkgutil-resolve-name>=1.3.10 in /opt/conda/lib/python3.8/site-packages (from jsonschema->ray) (1.3.10)\n",
            "Requirement already satisfied: referencing>=0.28.4 in /opt/conda/lib/python3.8/site-packages (from jsonschema->ray) (0.31.0)\n",
            "Requirement already satisfied: rpds-py>=0.7.1 in /opt/conda/lib/python3.8/site-packages (from jsonschema->ray) (0.13.1)\n",
            "Requirement already satisfied: charset-normalizer<4,>=2 in /opt/conda/lib/python3.8/site-packages (from requests->ray) (2.0.4)\n",
            "Requirement already satisfied: idna<4,>=2.5 in /opt/conda/lib/python3.8/site-packages (from requests->ray) (3.4)\n",
            "Requirement already satisfied: urllib3<3,>=1.21.1 in /opt/conda/lib/python3.8/site-packages (from requests->ray) (1.26.18)\n",
            "Requirement already satisfied: certifi>=2017.4.17 in /opt/conda/lib/python3.8/site-packages (from requests->ray) (2023.7.22)\n",
            "Requirement already satisfied: zipp>=3.1.0 in /opt/conda/lib/python3.8/site-packages (from importlib-resources>=1.4.0->jsonschema->ray) (3.17.0)\n",
            "Downloading ray-2.8.0-cp38-cp38-manylinux2014_x86_64.whl (62.6 MB)\n",
            "\u001b[2K   \u001b[90m━━━━━━━━━━━━━━━━━━━━━━━━━━━━━━━━━━━━━━━━\u001b[0m \u001b[32m62.6/62.6 MB\u001b[0m \u001b[31m5.8 MB/s\u001b[0m eta \u001b[36m0:00:00\u001b[0m00:01\u001b[0m00:01\u001b[0m\n",
            "\u001b[?25hDownloading click-8.1.7-py3-none-any.whl (97 kB)\n",
            "\u001b[2K   \u001b[90m━━━━━━━━━━━━━━━━━━━━━━━━━━━━━━━━━━━━━━━━\u001b[0m \u001b[32m97.9/97.9 kB\u001b[0m \u001b[31m4.8 MB/s\u001b[0m eta \u001b[36m0:00:00\u001b[0m\n",
            "\u001b[?25hDownloading msgpack-1.0.7-cp38-cp38-manylinux_2_17_x86_64.manylinux2014_x86_64.whl (534 kB)\n",
            "\u001b[2K   \u001b[90m━━━━━━━━━━━━━━━━━━━━━━━━━━━━━━━━━━━━━━━━\u001b[0m \u001b[32m534.8/534.8 kB\u001b[0m \u001b[31m7.9 MB/s\u001b[0m eta \u001b[36m0:00:00\u001b[0ma \u001b[36m0:00:01\u001b[0m\n",
            "\u001b[?25hDownloading protobuf-4.25.1-cp37-abi3-manylinux2014_x86_64.whl (294 kB)\n",
            "\u001b[2K   \u001b[90m━━━━━━━━━━━━━━━━━━━━━━━━━━━━━━━━━━━━━━━━\u001b[0m \u001b[32m294.6/294.6 kB\u001b[0m \u001b[31m9.2 MB/s\u001b[0m eta \u001b[36m0:00:00\u001b[0m\n",
            "\u001b[?25hDownloading frozenlist-1.4.0-cp38-cp38-manylinux_2_5_x86_64.manylinux1_x86_64.manylinux_2_17_x86_64.manylinux2014_x86_64.whl (220 kB)\n",
            "\u001b[2K   \u001b[90m━━━━━━━━━━━━━━━━━━━━━━━━━━━━━━━━━━━━━━━━\u001b[0m \u001b[32m220.1/220.1 kB\u001b[0m \u001b[31m7.9 MB/s\u001b[0m eta \u001b[36m0:00:00\u001b[0m\n",
            "\u001b[?25hDownloading filelock-3.13.1-py3-none-any.whl (11 kB)\n",
            "Installing collected packages: protobuf, msgpack, frozenlist, filelock, click, aiosignal, ray\n",
            "Successfully installed aiosignal-1.3.1 click-8.1.7 filelock-3.13.1 frozenlist-1.4.0 msgpack-1.0.7 protobuf-4.25.1 ray-2.8.0\n",
            "\u001b[33mWARNING: Running pip as the 'root' user can result in broken permissions and conflicting behaviour with the system package manager. It is recommended to use a virtual environment instead: https://pip.pypa.io/warnings/venv\u001b[0m\u001b[33m\n",
            "\u001b[0m"
          ]
        }
      ],
      "source": [
        "!pip install ray"
      ]
    },
    {
      "cell_type": "code",
      "execution_count": 35,
      "metadata": {},
      "outputs": [
        {
          "name": "stderr",
          "output_type": "stream",
          "text": [
            "2023-11-25 17:38:22,750\tWARNING services.py:1996 -- WARNING: The object store is using /tmp instead of /dev/shm because /dev/shm has only 67059712 bytes available. This will harm performance! You may be able to free up space by deleting files in /dev/shm. If you are inside a Docker container, you can increase /dev/shm size by passing '--shm-size=2.13gb' to 'docker run' (or add it to the run_options list in a Ray cluster config). Make sure to set this to more than 30% of available RAM.\n",
            "2023-11-25 17:38:23,893\tINFO worker.py:1673 -- Started a local Ray instance.\n"
          ]
        },
        {
          "name": "stdout",
          "output_type": "stream",
          "text": [
            "Without NumPy\n",
            "\u001b[36m(complex_operation pid=43803)\u001b[0m Complex operation. Input index:  0\n",
            "run_complex_operations took 6.387sec\n",
            "NumPy\n",
            "\u001b[36m(complex_operation_numpy pid=43799)\u001b[0m Complex operation (numpy). Input index:  0\n",
            "\u001b[36m(complex_operation pid=43804)\u001b[0m Complex operation. Input index:  9\u001b[32m [repeated 9x across cluster]\u001b[0m\n",
            "run_complex_operations took 823.77ms\n"
          ]
        }
      ],
      "source": [
        "import math\n",
        "import numpy as np\n",
        "from timebudget import timebudget\n",
        "import ray\n",
        "\n",
        "iterations_count = round(1e7)\n",
        "\n",
        "@ray.remote\n",
        "def complex_operation(input_index):\n",
        "    print(\"Complex operation. Input index: {:2d}\".format(input_index))\n",
        "\n",
        "    [math.exp(i) * math.sinh(i) for i in [1] * iterations_count]\n",
        "\n",
        "@ray.remote\n",
        "def complex_operation_numpy(input_index):\n",
        "    print(\"Complex operation (numpy). Input index: {:2d}\".format(input_index))\n",
        "\n",
        "    data = np.ones(iterations_count)\n",
        "    np.exp(data) * np.sinh(data)\n",
        "\n",
        "@timebudget\n",
        "def run_complex_operations(operation, input):\n",
        "    \n",
        "\tray.get([operation.remote(i) for i in input])\n",
        "\n",
        "ray.shutdown()\n",
        "ray.init()\n",
        "\n",
        "input = range(10)\n",
        "print('Without NumPy')\n",
        "run_complex_operations(complex_operation, input)\n",
        "print('NumPy')\n",
        "run_complex_operations(complex_operation_numpy, input)"
      ]
    },
    {
      "cell_type": "code",
      "execution_count": null,
      "metadata": {},
      "outputs": [],
      "source": []
    }
  ],
  "metadata": {
    "kernelspec": {
      "display_name": "base",
      "language": "python",
      "name": "python3"
    },
    "language_info": {
      "codemirror_mode": {
        "name": "ipython",
        "version": 3
      },
      "file_extension": ".py",
      "mimetype": "text/x-python",
      "name": "python",
      "nbconvert_exporter": "python",
      "pygments_lexer": "ipython3",
      "version": "3.8.18"
    }
  },
  "nbformat": 4,
  "nbformat_minor": 4
}
